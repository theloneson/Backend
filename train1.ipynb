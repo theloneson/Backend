{
 "cells": [
  {
   "cell_type": "code",
   "execution_count": 2,
   "id": "c0a1dff7",
   "metadata": {},
   "outputs": [],
   "source": [
    "import pandas as pd\n",
    "import numpy as np\n",
    "from datetime import timedelta"
   ]
  },
  {
   "cell_type": "code",
   "execution_count": 3,
   "id": "350b8130",
   "metadata": {},
   "outputs": [],
   "source": [
    "file_path = \"C:/Users/Jeremy S Obozuwa/Documents/Book1.csv\"\n",
    "df = pd.read_csv(file_path)"
   ]
  },
  {
   "cell_type": "code",
   "execution_count": 4,
   "id": "7dca9798",
   "metadata": {},
   "outputs": [
    {
     "name": "stdout",
     "output_type": "stream",
     "text": [
      "      amount_in    amount_out   in_token  out_token           platform  \\\n",
      "0  2.240868e+00  4.249080e+07       WSOL     $25.8m         pumpdotfun   \n",
      "1  2.816123e+04  1.980000e+00        BTC       WSOL            raydium   \n",
      "2  4.043684e+07  1.485000e+00  æ£’ä¸­æŒ‡       WSOL  raydium_launchlab   \n",
      "3  4.620261e+06  2.475000e-01  æ£’ä¸­æŒ‡       WSOL  raydium_launchlab   \n",
      "4  2.576764e+00  4.505710e+07       WSOL  æ£’ä¸­æŒ‡  raydium_launchlab   \n",
      "\n",
      "                     timestamp  \\\n",
      "0  2025-07-03 06:19:27.000 UTC   \n",
      "1  2025-07-03 06:25:57.000 UTC   \n",
      "2  2025-07-03 06:30:51.000 UTC   \n",
      "3  2025-07-03 06:31:08.000 UTC   \n",
      "4  2025-07-03 06:31:20.000 UTC   \n",
      "\n",
      "                                             tx_hash  volume_usd  \\\n",
      "0  38QSi6fxtJsWUyZudkEq1UNFRXrpvuxeFXgypXsUisDcei...  347.984331   \n",
      "1  2M2YYdMRZdopiBjcaz3kykeAJoig6uJiXSgjcduazbnXSQ...  307.711800   \n",
      "2  5T9gTV3Lw982t9taYxpsVhCiso7NF4fPr25ZHU5nbqYbxW...  230.843250   \n",
      "3  2FXLpLwv941PnVYwAtyXKKzhj4qZcZRwVBrEUNbWedJhd4...   38.473875   \n",
      "4  5ozr4Sv9kGFKzhTFM71rLt8VSWZBHzkN7nXssMfriM5UR8...  400.557939   \n",
      "\n",
      "                                         wallet  \n",
      "0  DfMxre4cKmvogbLrPigxmibVTTQDuzjdXojWzjCXXhzj  \n",
      "1  DfMxre4cKmvogbLrPigxmibVTTQDuzjdXojWzjCXXhzj  \n",
      "2  DfMxre4cKmvogbLrPigxmibVTTQDuzjdXojWzjCXXhzj  \n",
      "3  DfMxre4cKmvogbLrPigxmibVTTQDuzjdXojWzjCXXhzj  \n",
      "4  DfMxre4cKmvogbLrPigxmibVTTQDuzjdXojWzjCXXhzj  \n"
     ]
    }
   ],
   "source": [
    "print(df.head())"
   ]
  },
  {
   "cell_type": "code",
   "execution_count": 5,
   "id": "124349e5",
   "metadata": {},
   "outputs": [],
   "source": [
    "# Convert numeric columns\n",
    "numeric_cols = ['amount_in', 'amount_out', 'volume_usd']\n",
    "df[numeric_cols] = df[numeric_cols].apply(pd.to_numeric, errors='coerce')\n",
    "\n"
   ]
  },
  {
   "cell_type": "code",
   "execution_count": 6,
   "id": "38c5f353",
   "metadata": {},
   "outputs": [
    {
     "name": "stdout",
     "output_type": "stream",
     "text": [
      "Dataset Info:\n",
      "<class 'pandas.core.frame.DataFrame'>\n",
      "RangeIndex: 521 entries, 0 to 520\n",
      "Data columns (total 9 columns):\n",
      " #   Column      Non-Null Count  Dtype  \n",
      "---  ------      --------------  -----  \n",
      " 0   amount_in   517 non-null    float64\n",
      " 1   amount_out  519 non-null    float64\n",
      " 2   in_token    517 non-null    object \n",
      " 3   out_token   519 non-null    object \n",
      " 4   platform    521 non-null    object \n",
      " 5   timestamp   521 non-null    object \n",
      " 6   tx_hash     521 non-null    object \n",
      " 7   volume_usd  521 non-null    float64\n",
      " 8   wallet      521 non-null    object \n",
      "dtypes: float64(3), object(6)\n",
      "memory usage: 36.8+ KB\n",
      "None\n"
     ]
    }
   ],
   "source": [
    "# Display basic info\n",
    "print(\"Dataset Info:\")\n",
    "print(df.info())\n",
    "# print(\"\\nDescriptive Statistics:\")\n",
    "# print(df[numeric_cols].describe().head())\n",
    "# print(\"\\nFirst Few Rows:\")\n",
    "# print(df.head())"
   ]
  },
  {
   "cell_type": "code",
   "execution_count": 7,
   "id": "10567e80",
   "metadata": {},
   "outputs": [
    {
     "name": "stdout",
     "output_type": "stream",
     "text": [
      "        amount_in    amount_out   in_token  out_token           platform  \\\n",
      "0    2.240868e+00  4.249080e+07       WSOL     $25.8m         pumpdotfun   \n",
      "1    2.816123e+04  1.980000e+00        BTC       WSOL            raydium   \n",
      "2    4.043684e+07  1.485000e+00  æ£’ä¸­æŒ‡       WSOL  raydium_launchlab   \n",
      "3    4.620261e+06  2.475000e-01  æ£’ä¸­æŒ‡       WSOL  raydium_launchlab   \n",
      "4    2.576764e+00  4.505710e+07       WSOL  æ£’ä¸­æŒ‡  raydium_launchlab   \n",
      "..            ...           ...        ...        ...                ...   \n",
      "516  7.919672e-01  5.511007e+06       WSOL      Vroom           pumpswap   \n",
      "517  4.735387e+06  9.900000e-01       LOAD       WSOL  raydium_launchlab   \n",
      "518  2.167058e+07  4.950000e+00     CHEESE       WSOL            raydium   \n",
      "519           NaN  1.485000e+00        NaN       WSOL  raydium_launchlab   \n",
      "520  2.877420e+00           NaN       WSOL        NaN  raydium_launchlab   \n",
      "\n",
      "                       timestamp  \\\n",
      "0    2025-07-03 06:19:27.000 UTC   \n",
      "1    2025-07-03 06:25:57.000 UTC   \n",
      "2    2025-07-03 06:30:51.000 UTC   \n",
      "3    2025-07-03 06:31:08.000 UTC   \n",
      "4    2025-07-03 06:31:20.000 UTC   \n",
      "..                           ...   \n",
      "516  2025-07-05 00:00:58.000 UTC   \n",
      "517  2025-07-05 00:13:25.000 UTC   \n",
      "518  2025-07-05 00:34:00.000 UTC   \n",
      "519  2025-07-05 00:46:53.000 UTC   \n",
      "520  2025-07-05 00:47:25.000 UTC   \n",
      "\n",
      "                                               tx_hash  volume_usd  \\\n",
      "0    38QSi6fxtJsWUyZudkEq1UNFRXrpvuxeFXgypXsUisDcei...  347.984331   \n",
      "1    2M2YYdMRZdopiBjcaz3kykeAJoig6uJiXSgjcduazbnXSQ...  307.711800   \n",
      "2    5T9gTV3Lw982t9taYxpsVhCiso7NF4fPr25ZHU5nbqYbxW...  230.843250   \n",
      "3    2FXLpLwv941PnVYwAtyXKKzhj4qZcZRwVBrEUNbWedJhd4...   38.473875   \n",
      "4    5ozr4Sv9kGFKzhTFM71rLt8VSWZBHzkN7nXssMfriM5UR8...  400.557939   \n",
      "..                                                 ...         ...   \n",
      "516  4pjeMjLjpLFtewiDcCUa2XGTTEx4e2VSXbbFA2j8tNdFHA...  117.060679   \n",
      "517  wjJroGbVbPGnVEZ3iJMzd77JGkKYq97adeFu49tQLbtmph...  146.371500   \n",
      "518  4ndGHWxhhFevCTjqbj6XD9db3U4ufsHEyXqVejsCMxLcJ5...  734.679000   \n",
      "519  38tB7awmM6bjN7i2uCAJQXnruSHwcQFzezMRxr3zHxUgvU...  220.403700   \n",
      "520  4hSHSHAYtNu9BpcQALaopkfaxVmkRKycKM5Eo6Yn4N9rpX...  427.066656   \n",
      "\n",
      "                                           wallet       new_timestamp  \\\n",
      "0    DfMxre4cKmvogbLrPigxmibVTTQDuzjdXojWzjCXXhzj 2025-07-03 06:19:27   \n",
      "1    DfMxre4cKmvogbLrPigxmibVTTQDuzjdXojWzjCXXhzj 2025-07-03 06:25:57   \n",
      "2    DfMxre4cKmvogbLrPigxmibVTTQDuzjdXojWzjCXXhzj 2025-07-03 06:30:51   \n",
      "3    DfMxre4cKmvogbLrPigxmibVTTQDuzjdXojWzjCXXhzj 2025-07-03 06:31:08   \n",
      "4    DfMxre4cKmvogbLrPigxmibVTTQDuzjdXojWzjCXXhzj 2025-07-03 06:31:20   \n",
      "..                                            ...                 ...   \n",
      "516  DfMxre4cKmvogbLrPigxmibVTTQDuzjdXojWzjCXXhzj 2025-07-05 00:00:58   \n",
      "517  DfMxre4cKmvogbLrPigxmibVTTQDuzjdXojWzjCXXhzj 2025-07-05 00:13:25   \n",
      "518  DfMxre4cKmvogbLrPigxmibVTTQDuzjdXojWzjCXXhzj 2025-07-05 00:34:00   \n",
      "519  DfMxre4cKmvogbLrPigxmibVTTQDuzjdXojWzjCXXhzj 2025-07-05 00:46:53   \n",
      "520  DfMxre4cKmvogbLrPigxmibVTTQDuzjdXojWzjCXXhzj 2025-07-05 00:47:25   \n",
      "\n",
      "            latency  tim_in_sec  \n",
      "0               NaT         NaN  \n",
      "1   0 days 00:06:30       390.0  \n",
      "2   0 days 00:04:54       294.0  \n",
      "3   0 days 00:00:17        17.0  \n",
      "4   0 days 00:00:12        12.0  \n",
      "..              ...         ...  \n",
      "516 0 days 00:07:54       474.0  \n",
      "517 0 days 00:12:27       747.0  \n",
      "518 0 days 00:20:35      1235.0  \n",
      "519 0 days 00:12:53       773.0  \n",
      "520 0 days 00:00:32        32.0  \n",
      "\n",
      "[521 rows x 12 columns]\n"
     ]
    }
   ],
   "source": [
    "#### ASSIGN A DEF TO BLOCK CODE AS A FUNCTION\n",
    "#### AS FEATURE ENGINEERING STARTS HERE\n",
    "\n",
    "\n",
    "# Convert to datetime - removing '.000 UTC' completely\n",
    "df['new_timestamp'] = pd.to_datetime(df['timestamp'].str.replace('\\.000 UTC', '', regex=True))\n",
    "# Calculate the latency between each row\n",
    "df['latency'] = df['new_timestamp'].diff()\n",
    "# Calculate latency in seconds\n",
    "df['tim_in_sec'] = df['latency'].dt.total_seconds()\n",
    "\n",
    "\n",
    "# Print the resulting DataFrame\n",
    "print(df)\n",
    "\n"
   ]
  },
  {
   "cell_type": "code",
   "execution_count": 8,
   "id": "f3a2e27f",
   "metadata": {},
   "outputs": [
    {
     "name": "stdout",
     "output_type": "stream",
     "text": [
      "Dataset Info:\n",
      "<class 'pandas.core.frame.DataFrame'>\n",
      "RangeIndex: 521 entries, 0 to 520\n",
      "Data columns (total 12 columns):\n",
      " #   Column         Non-Null Count  Dtype          \n",
      "---  ------         --------------  -----          \n",
      " 0   amount_in      517 non-null    float64        \n",
      " 1   amount_out     519 non-null    float64        \n",
      " 2   in_token       517 non-null    object         \n",
      " 3   out_token      519 non-null    object         \n",
      " 4   platform       521 non-null    object         \n",
      " 5   timestamp      521 non-null    object         \n",
      " 6   tx_hash        521 non-null    object         \n",
      " 7   volume_usd     521 non-null    float64        \n",
      " 8   wallet         521 non-null    object         \n",
      " 9   new_timestamp  521 non-null    datetime64[ns] \n",
      " 10  latency        520 non-null    timedelta64[ns]\n",
      " 11  tim_in_sec     520 non-null    float64        \n",
      "dtypes: datetime64[ns](1), float64(4), object(6), timedelta64[ns](1)\n",
      "memory usage: 49.0+ KB\n",
      "None\n"
     ]
    }
   ],
   "source": [
    "print(\"Dataset Info:\")\n",
    "print(df.info())"
   ]
  },
  {
   "cell_type": "code",
   "execution_count": 9,
   "id": "51ee924d",
   "metadata": {},
   "outputs": [
    {
     "name": "stdout",
     "output_type": "stream",
     "text": [
      "        amount_in    amount_out   in_token  out_token  \\\n",
      "0    2.240868e+00  4.249080e+07       WSOL     $25.8m   \n",
      "1    2.816123e+04  1.980000e+00        BTC       WSOL   \n",
      "2    4.043684e+07  1.485000e+00  æ£’ä¸­æŒ‡       WSOL   \n",
      "3    4.620261e+06  2.475000e-01  æ£’ä¸­æŒ‡       WSOL   \n",
      "4    2.576764e+00  4.505710e+07       WSOL  æ£’ä¸­æŒ‡   \n",
      "..            ...           ...        ...        ...   \n",
      "516  7.919672e-01  5.511007e+06       WSOL      Vroom   \n",
      "517  4.735387e+06  9.900000e-01       LOAD       WSOL   \n",
      "518  2.167058e+07  4.950000e+00     CHEESE       WSOL   \n",
      "519           NaN  1.485000e+00        NaN       WSOL   \n",
      "520  2.877420e+00           NaN       WSOL        NaN   \n",
      "\n",
      "                       timestamp  \\\n",
      "0    2025-07-03 06:19:27.000 UTC   \n",
      "1    2025-07-03 06:25:57.000 UTC   \n",
      "2    2025-07-03 06:30:51.000 UTC   \n",
      "3    2025-07-03 06:31:08.000 UTC   \n",
      "4    2025-07-03 06:31:20.000 UTC   \n",
      "..                           ...   \n",
      "516  2025-07-05 00:00:58.000 UTC   \n",
      "517  2025-07-05 00:13:25.000 UTC   \n",
      "518  2025-07-05 00:34:00.000 UTC   \n",
      "519  2025-07-05 00:46:53.000 UTC   \n",
      "520  2025-07-05 00:47:25.000 UTC   \n",
      "\n",
      "                                               tx_hash  volume_usd  \\\n",
      "0    38QSi6fxtJsWUyZudkEq1UNFRXrpvuxeFXgypXsUisDcei...  347.984331   \n",
      "1    2M2YYdMRZdopiBjcaz3kykeAJoig6uJiXSgjcduazbnXSQ...  307.711800   \n",
      "2    5T9gTV3Lw982t9taYxpsVhCiso7NF4fPr25ZHU5nbqYbxW...  230.843250   \n",
      "3    2FXLpLwv941PnVYwAtyXKKzhj4qZcZRwVBrEUNbWedJhd4...   38.473875   \n",
      "4    5ozr4Sv9kGFKzhTFM71rLt8VSWZBHzkN7nXssMfriM5UR8...  400.557939   \n",
      "..                                                 ...         ...   \n",
      "516  4pjeMjLjpLFtewiDcCUa2XGTTEx4e2VSXbbFA2j8tNdFHA...  117.060679   \n",
      "517  wjJroGbVbPGnVEZ3iJMzd77JGkKYq97adeFu49tQLbtmph...  146.371500   \n",
      "518  4ndGHWxhhFevCTjqbj6XD9db3U4ufsHEyXqVejsCMxLcJ5...  734.679000   \n",
      "519  38tB7awmM6bjN7i2uCAJQXnruSHwcQFzezMRxr3zHxUgvU...  220.403700   \n",
      "520  4hSHSHAYtNu9BpcQALaopkfaxVmkRKycKM5Eo6Yn4N9rpX...  427.066656   \n",
      "\n",
      "                                           wallet       new_timestamp  \\\n",
      "0    DfMxre4cKmvogbLrPigxmibVTTQDuzjdXojWzjCXXhzj 2025-07-03 06:19:27   \n",
      "1    DfMxre4cKmvogbLrPigxmibVTTQDuzjdXojWzjCXXhzj 2025-07-03 06:25:57   \n",
      "2    DfMxre4cKmvogbLrPigxmibVTTQDuzjdXojWzjCXXhzj 2025-07-03 06:30:51   \n",
      "3    DfMxre4cKmvogbLrPigxmibVTTQDuzjdXojWzjCXXhzj 2025-07-03 06:31:08   \n",
      "4    DfMxre4cKmvogbLrPigxmibVTTQDuzjdXojWzjCXXhzj 2025-07-03 06:31:20   \n",
      "..                                            ...                 ...   \n",
      "516  DfMxre4cKmvogbLrPigxmibVTTQDuzjdXojWzjCXXhzj 2025-07-05 00:00:58   \n",
      "517  DfMxre4cKmvogbLrPigxmibVTTQDuzjdXojWzjCXXhzj 2025-07-05 00:13:25   \n",
      "518  DfMxre4cKmvogbLrPigxmibVTTQDuzjdXojWzjCXXhzj 2025-07-05 00:34:00   \n",
      "519  DfMxre4cKmvogbLrPigxmibVTTQDuzjdXojWzjCXXhzj 2025-07-05 00:46:53   \n",
      "520  DfMxre4cKmvogbLrPigxmibVTTQDuzjdXojWzjCXXhzj 2025-07-05 00:47:25   \n",
      "\n",
      "            latency  tim_in_sec  platform_pumpdotfun  platform_pumpswap  \\\n",
      "0               NaT         NaN                 True              False   \n",
      "1   0 days 00:06:30       390.0                False              False   \n",
      "2   0 days 00:04:54       294.0                False              False   \n",
      "3   0 days 00:00:17        17.0                False              False   \n",
      "4   0 days 00:00:12        12.0                False              False   \n",
      "..              ...         ...                  ...                ...   \n",
      "516 0 days 00:07:54       474.0                False               True   \n",
      "517 0 days 00:12:27       747.0                False              False   \n",
      "518 0 days 00:20:35      1235.0                False              False   \n",
      "519 0 days 00:12:53       773.0                False              False   \n",
      "520 0 days 00:00:32        32.0                False              False   \n",
      "\n",
      "     platform_raydium  platform_raydium_launchlab  \n",
      "0               False                       False  \n",
      "1                True                       False  \n",
      "2               False                        True  \n",
      "3               False                        True  \n",
      "4               False                        True  \n",
      "..                ...                         ...  \n",
      "516             False                       False  \n",
      "517             False                        True  \n",
      "518              True                       False  \n",
      "519             False                        True  \n",
      "520             False                        True  \n",
      "\n",
      "[521 rows x 15 columns]\n"
     ]
    },
    {
     "data": {
      "image/png": "[encoded data removed]",
      "text/plain": [
       "<Figure size 1200x800 with 2 Axes>"
      ]
     },
     "metadata": {},
     "output_type": "display_data"
    }
   ],
   "source": [
    "import seaborn as sns\n",
    "\n",
    "# One-hot encode the 'platform' column\n",
    "df_encoded = pd.get_dummies(df, columns=['platform'])\n",
    "\n",
    "# Compute correlation matrix\n",
    "corr_matrix = df_encoded.corr(numeric_only=True)\n",
    "print(df_encoded)\n",
    "# Plot heatmap of the correlation matrix\n",
    "import matplotlib.pyplot as plt\n",
    "\n",
    "plt.figure(figsize=(12, 8))\n",
    "sns.heatmap(corr_matrix, annot=True, fmt=\".2f\", cmap='coolwarm')\n",
    "plt.title('Correlation Matrix Heatmap')\n",
    "plt.show()"
   ]
  },
  {
   "cell_type": "code",
   "execution_count": 10,
   "id": "5621f91d",
   "metadata": {},
   "outputs": [
    {
     "data": {
      "image/png": "[encoded data removed]",
      "text/plain": [
       "<Figure size 800x600 with 2 Axes>"
      ]
     },
     "metadata": {},
     "output_type": "display_data"
    }
   ],
   "source": [
    "from sklearn.preprocessing import LabelEncoder\n",
    "\n",
    "# Label encode the 'platform' column\n",
    "le = LabelEncoder()\n",
    "df['platform_encoded'] = le.fit_transform(df['platform'])\n",
    "\n",
    "# Add the encoded column to the list of columns to correlate\n",
    "corr_cols = numeric_cols + ['platform_encoded']\n",
    "\n",
    "# Compute correlation matrix\n",
    "corr_matrix_label = df[corr_cols].corr()\n",
    "\n",
    "# Plot heatmap\n",
    "plt.figure(figsize=(8, 6))\n",
    "sns.heatmap(corr_matrix_label, annot=True, fmt=\".2f\", cmap='coolwarm')\n",
    "plt.title('Correlation Matrix with Label Encoded Platform')\n",
    "plt.show()"
   ]
  },
  {
   "cell_type": "code",
   "execution_count": 11,
   "id": "3ba42f4c",
   "metadata": {},
   "outputs": [
    {
     "name": "stdout",
     "output_type": "stream",
     "text": [
      "0    0\n",
      "1    2\n",
      "2    3\n",
      "3    3\n",
      "4    3\n",
      "Name: platform_encoded, dtype: int32\n"
     ]
    }
   ],
   "source": [
    "print(df['platform_encoded'].head())"
   ]
  },
  {
   "cell_type": "code",
   "execution_count": 12,
   "id": "7a239217",
   "metadata": {},
   "outputs": [
    {
     "name": "stdout",
     "output_type": "stream",
     "text": [
      "<class 'pandas.core.frame.DataFrame'>\n",
      "RangeIndex: 521 entries, 0 to 520\n",
      "Data columns (total 13 columns):\n",
      " #   Column            Non-Null Count  Dtype          \n",
      "---  ------            --------------  -----          \n",
      " 0   amount_in         517 non-null    float64        \n",
      " 1   amount_out        519 non-null    float64        \n",
      " 2   in_token          517 non-null    object         \n",
      " 3   out_token         519 non-null    object         \n",
      " 4   platform          521 non-null    object         \n",
      " 5   timestamp         521 non-null    object         \n",
      " 6   tx_hash           521 non-null    object         \n",
      " 7   volume_usd        521 non-null    float64        \n",
      " 8   wallet            521 non-null    object         \n",
      " 9   new_timestamp     521 non-null    datetime64[ns] \n",
      " 10  latency           520 non-null    timedelta64[ns]\n",
      " 11  tim_in_sec        520 non-null    float64        \n",
      " 12  platform_encoded  521 non-null    int32          \n",
      "dtypes: datetime64[ns](1), float64(4), int32(1), object(6), timedelta64[ns](1)\n",
      "memory usage: 51.0+ KB\n",
      "None\n"
     ]
    }
   ],
   "source": [
    "print(df.info())"
   ]
  },
  {
   "cell_type": "code",
   "execution_count": 13,
   "id": "d12807e4",
   "metadata": {},
   "outputs": [
    {
     "name": "stdout",
     "output_type": "stream",
     "text": [
      "Dataset Info:\n",
      "        new_timestamp         latency  tim_in_sec\n",
      "0 2025-07-03 06:19:27             NaT         NaN\n",
      "1 2025-07-03 06:25:57 0 days 00:06:30       390.0\n",
      "2 2025-07-03 06:30:51 0 days 00:04:54       294.0\n",
      "3 2025-07-03 06:31:08 0 days 00:00:17        17.0\n",
      "4 2025-07-03 06:31:20 0 days 00:00:12        12.0\n"
     ]
    }
   ],
   "source": [
    "print(\"Dataset Info:\")\n",
    "jn = ['new_timestamp', 'latency', 'tim_in_sec']\n",
    "print(df[jn].head())"
   ]
  },
  {
   "cell_type": "code",
   "execution_count": 14,
   "id": "9759a54a",
   "metadata": {},
   "outputs": [
    {
     "name": "stdout",
     "output_type": "stream",
     "text": [
      "      amount_in    amount_out  volume_usd       new_timestamp         latency  \\\n",
      "0  2.240868e+00  4.249080e+07  347.984331 2025-07-03 06:19:27             NaT   \n",
      "1  2.816123e+04  1.980000e+00  307.711800 2025-07-03 06:25:57 0 days 00:06:30   \n",
      "2  4.043684e+07  1.485000e+00  230.843250 2025-07-03 06:30:51 0 days 00:04:54   \n",
      "3  4.620261e+06  2.475000e-01   38.473875 2025-07-03 06:31:08 0 days 00:00:17   \n",
      "4  2.576764e+00  4.505710e+07  400.557939 2025-07-03 06:31:20 0 days 00:00:12   \n",
      "\n",
      "   tim_in_sec  \n",
      "0         NaN  \n",
      "1       390.0  \n",
      "2       294.0  \n",
      "3        17.0  \n",
      "4        12.0  \n"
     ]
    }
   ],
   "source": [
    "tn = [ 'amount_in', 'amount_out', 'volume_usd', 'new_timestamp', 'latency', 'tim_in_sec',]\n",
    "print(df[tn].head())"
   ]
  },
  {
   "cell_type": "code",
   "execution_count": 15,
   "id": "718d4d58",
   "metadata": {},
   "outputs": [
    {
     "name": "stdout",
     "output_type": "stream",
     "text": [
      "wallet\n",
      "DfMxre4cKmvogbLrPigxmibVTTQDuzjdXojWzjCXXhzj    12.268606\n",
      "dtype: float64\n",
      "        amount_in    amount_out   in_token  out_token           platform  \\\n",
      "0    2.240868e+00  4.249080e+07       WSOL     $25.8m         pumpdotfun   \n",
      "1    2.816123e+04  1.980000e+00        BTC       WSOL            raydium   \n",
      "2    4.043684e+07  1.485000e+00  æ£’ä¸­æŒ‡       WSOL  raydium_launchlab   \n",
      "3    4.620261e+06  2.475000e-01  æ£’ä¸­æŒ‡       WSOL  raydium_launchlab   \n",
      "4    2.576764e+00  4.505710e+07       WSOL  æ£’ä¸­æŒ‡  raydium_launchlab   \n",
      "..            ...           ...        ...        ...                ...   \n",
      "516  7.919672e-01  5.511007e+06       WSOL      Vroom           pumpswap   \n",
      "517  4.735387e+06  9.900000e-01       LOAD       WSOL  raydium_launchlab   \n",
      "518  2.167058e+07  4.950000e+00     CHEESE       WSOL            raydium   \n",
      "519  1.000000e+00  1.485000e+00          1       WSOL  raydium_launchlab   \n",
      "520  2.877420e+00  1.000000e+00       WSOL          1  raydium_launchlab   \n",
      "\n",
      "              timestamp                                            tx_hash  \\\n",
      "0   2025-07-03 06:19:27  38QSi6fxtJsWUyZudkEq1UNFRXrpvuxeFXgypXsUisDcei...   \n",
      "1   2025-07-03 06:25:57  2M2YYdMRZdopiBjcaz3kykeAJoig6uJiXSgjcduazbnXSQ...   \n",
      "2   2025-07-03 06:30:51  5T9gTV3Lw982t9taYxpsVhCiso7NF4fPr25ZHU5nbqYbxW...   \n",
      "3   2025-07-03 06:31:08  2FXLpLwv941PnVYwAtyXKKzhj4qZcZRwVBrEUNbWedJhd4...   \n",
      "4   2025-07-03 06:31:20  5ozr4Sv9kGFKzhTFM71rLt8VSWZBHzkN7nXssMfriM5UR8...   \n",
      "..                  ...                                                ...   \n",
      "516 2025-07-05 00:00:58  4pjeMjLjpLFtewiDcCUa2XGTTEx4e2VSXbbFA2j8tNdFHA...   \n",
      "517 2025-07-05 00:13:25  wjJroGbVbPGnVEZ3iJMzd77JGkKYq97adeFu49tQLbtmph...   \n",
      "518 2025-07-05 00:34:00  4ndGHWxhhFevCTjqbj6XD9db3U4ufsHEyXqVejsCMxLcJ5...   \n",
      "519 2025-07-05 00:46:53  38tB7awmM6bjN7i2uCAJQXnruSHwcQFzezMRxr3zHxUgvU...   \n",
      "520 2025-07-05 00:47:25  4hSHSHAYtNu9BpcQALaopkfaxVmkRKycKM5Eo6Yn4N9rpX...   \n",
      "\n",
      "     volume_usd                                        wallet  \\\n",
      "0    347.984331  DfMxre4cKmvogbLrPigxmibVTTQDuzjdXojWzjCXXhzj   \n",
      "1    307.711800  DfMxre4cKmvogbLrPigxmibVTTQDuzjdXojWzjCXXhzj   \n",
      "2    230.843250  DfMxre4cKmvogbLrPigxmibVTTQDuzjdXojWzjCXXhzj   \n",
      "3     38.473875  DfMxre4cKmvogbLrPigxmibVTTQDuzjdXojWzjCXXhzj   \n",
      "4    400.557939  DfMxre4cKmvogbLrPigxmibVTTQDuzjdXojWzjCXXhzj   \n",
      "..          ...                                           ...   \n",
      "516  117.060679  DfMxre4cKmvogbLrPigxmibVTTQDuzjdXojWzjCXXhzj   \n",
      "517  146.371500  DfMxre4cKmvogbLrPigxmibVTTQDuzjdXojWzjCXXhzj   \n",
      "518  734.679000  DfMxre4cKmvogbLrPigxmibVTTQDuzjdXojWzjCXXhzj   \n",
      "519  220.403700  DfMxre4cKmvogbLrPigxmibVTTQDuzjdXojWzjCXXhzj   \n",
      "520  427.066656  DfMxre4cKmvogbLrPigxmibVTTQDuzjdXojWzjCXXhzj   \n",
      "\n",
      "          new_timestamp          latency  tim_in_sec  platform_encoded  \n",
      "0   2025-07-03 06:19:27                1           1                 0  \n",
      "1   2025-07-03 06:25:57  0 days 00:06:30         390                 2  \n",
      "2   2025-07-03 06:30:51  0 days 00:04:54         294                 3  \n",
      "3   2025-07-03 06:31:08  0 days 00:00:17          17                 3  \n",
      "4   2025-07-03 06:31:20  0 days 00:00:12          12                 3  \n",
      "..                  ...              ...         ...               ...  \n",
      "516 2025-07-05 00:00:58  0 days 00:07:54         474                 1  \n",
      "517 2025-07-05 00:13:25  0 days 00:12:27         747                 3  \n",
      "518 2025-07-05 00:34:00  0 days 00:20:35        1235                 2  \n",
      "519 2025-07-05 00:46:53  0 days 00:12:53         773                 3  \n",
      "520 2025-07-05 00:47:25  0 days 00:00:32          32                 3  \n",
      "\n",
      "[521 rows x 13 columns]\n"
     ]
    }
   ],
   "source": [
    "# Calculate trades/hour per wallet\n",
    "# df['latency_seconds'] = df['latency_seconds'].fillna(0)\n",
    "df = df.replace(['NAN', 'NAT', 'INVALID'], np.nan).fillna(1)\n",
    "df['tim_in_sec'] = df['tim_in_sec'].round().astype(int)\n",
    "\n",
    "# Ensure 'timestamp' is datetime\n",
    "df['timestamp'] = pd.to_datetime(df['timestamp'].str.replace('\\.000 UTC', '', regex=True))\n",
    "\n",
    "trades_per_wallet = df.groupby('wallet').size()\n",
    "time_span_per_wallet = df.groupby('wallet')['timestamp'].agg(['min', 'max'])\n",
    "hours_per_wallet = (time_span_per_wallet['max'] - time_span_per_wallet['min']).dt.total_seconds() / 3600\n",
    "trades_per_hour = trades_per_wallet / hours_per_wallet\n",
    "\n",
    "print(trades_per_hour)\n",
    "\n",
    "print(df)\n",
    "# print(trades_per_hour)"
   ]
  },
  {
   "cell_type": "code",
   "execution_count": 16,
   "id": "8ed29f01",
   "metadata": {},
   "outputs": [
    {
     "name": "stdout",
     "output_type": "stream",
     "text": [
      "count      521\n",
      "unique     106\n",
      "top       WSOL\n",
      "freq       366\n",
      "Name: out_token, dtype: object\n",
      "\n",
      "##############################\n",
      "\n",
      "<class 'pandas.core.series.Series'>\n",
      "RangeIndex: 521 entries, 0 to 520\n",
      "Series name: out_token\n",
      "Non-Null Count  Dtype \n",
      "--------------  ----- \n",
      "521 non-null    object\n",
      "dtypes: object(1)\n",
      "memory usage: 4.2+ KB\n",
      "None\n",
      "\n",
      "      amount_in    amount_out   in_token  out_token           platform  \\\n",
      "0  2.240868e+00  4.249080e+07       WSOL     $25.8m         pumpdotfun   \n",
      "1  2.816123e+04  1.980000e+00        BTC       WSOL            raydium   \n",
      "2  4.043684e+07  1.485000e+00  æ£’ä¸­æŒ‡       WSOL  raydium_launchlab   \n",
      "3  4.620261e+06  2.475000e-01  æ£’ä¸­æŒ‡       WSOL  raydium_launchlab   \n",
      "4  2.576764e+00  4.505710e+07       WSOL  æ£’ä¸­æŒ‡  raydium_launchlab   \n",
      "5  4.110873e+07  1.470297e+00    NimDoor       WSOL         pumpdotfun   \n",
      "6  4.551012e+06  2.450495e-01    NimDoor       WSOL         pumpdotfun   \n",
      "7  2.153435e+00  4.565974e+07       WSOL    NimDoor         pumpdotfun   \n",
      "8  1.537768e+02  9.900000e-01       USDC       WSOL            raydium   \n",
      "9  9.859057e+00  2.277435e+05       WSOL   BlueChip            raydium   \n",
      "\n",
      "            timestamp                                            tx_hash  \\\n",
      "0 2025-07-03 06:19:27  38QSi6fxtJsWUyZudkEq1UNFRXrpvuxeFXgypXsUisDcei...   \n",
      "1 2025-07-03 06:25:57  2M2YYdMRZdopiBjcaz3kykeAJoig6uJiXSgjcduazbnXSQ...   \n",
      "2 2025-07-03 06:30:51  5T9gTV3Lw982t9taYxpsVhCiso7NF4fPr25ZHU5nbqYbxW...   \n",
      "3 2025-07-03 06:31:08  2FXLpLwv941PnVYwAtyXKKzhj4qZcZRwVBrEUNbWedJhd4...   \n",
      "4 2025-07-03 06:31:20  5ozr4Sv9kGFKzhTFM71rLt8VSWZBHzkN7nXssMfriM5UR8...   \n",
      "5 2025-07-03 06:31:52  2VR2AV9XPWT8iujk78FsUGUDDE31U4t73YvesahoGagoAA...   \n",
      "6 2025-07-03 06:32:10  3ncGk3SrP7M4CFQdFCLaHVxPGNN1AoH4oBjDytybBbVL99...   \n",
      "7 2025-07-03 06:32:21  4SSkPPE8NxTw7FG1d2pjmf39dTdZao4Wyhr7LZXGSpQ4sP...   \n",
      "8 2025-07-03 06:32:40  38EzHy4noAsT1LbBHiAwYkghd2ijgex6Q8iaWxkd4ceJs8...   \n",
      "9 2025-07-03 06:39:22  4iKvbou47zWybQajFYe2K1kBXbACnvELDPYGxig29x9zMp...   \n",
      "\n",
      "    volume_usd                                        wallet  \\\n",
      "0   347.984331  DfMxre4cKmvogbLrPigxmibVTTQDuzjdXojWzjCXXhzj   \n",
      "1   307.711800  DfMxre4cKmvogbLrPigxmibVTTQDuzjdXojWzjCXXhzj   \n",
      "2   230.843250  DfMxre4cKmvogbLrPigxmibVTTQDuzjdXojWzjCXXhzj   \n",
      "3    38.473875  DfMxre4cKmvogbLrPigxmibVTTQDuzjdXojWzjCXXhzj   \n",
      "4   400.557939  DfMxre4cKmvogbLrPigxmibVTTQDuzjdXojWzjCXXhzj   \n",
      "5   228.557673  DfMxre4cKmvogbLrPigxmibVTTQDuzjdXojWzjCXXhzj   \n",
      "6    38.092945  DfMxre4cKmvogbLrPigxmibVTTQDuzjdXojWzjCXXhzj   \n",
      "7   334.751460  DfMxre4cKmvogbLrPigxmibVTTQDuzjdXojWzjCXXhzj   \n",
      "8   153.765854  DfMxre4cKmvogbLrPigxmibVTTQDuzjdXojWzjCXXhzj   \n",
      "9  1531.604486  DfMxre4cKmvogbLrPigxmibVTTQDuzjdXojWzjCXXhzj   \n",
      "\n",
      "        new_timestamp          latency  tim_in_sec  platform_encoded  \n",
      "0 2025-07-03 06:19:27                1           1                 0  \n",
      "1 2025-07-03 06:25:57  0 days 00:06:30         390                 2  \n",
      "2 2025-07-03 06:30:51  0 days 00:04:54         294                 3  \n",
      "3 2025-07-03 06:31:08  0 days 00:00:17          17                 3  \n",
      "4 2025-07-03 06:31:20  0 days 00:00:12          12                 3  \n",
      "5 2025-07-03 06:31:52  0 days 00:00:32          32                 0  \n",
      "6 2025-07-03 06:32:10  0 days 00:00:18          18                 0  \n",
      "7 2025-07-03 06:32:21  0 days 00:00:11          11                 0  \n",
      "8 2025-07-03 06:32:40  0 days 00:00:19          19                 2  \n",
      "9 2025-07-03 06:39:22  0 days 00:06:42         402                 2  \n"
     ]
    }
   ],
   "source": [
    "# # Clean token anomalies\n",
    "# df.loc[df['out_token'] == '$25.8m', 'out_token'] = 'INVALID'\n",
    "print(df['out_token'].describe())\n",
    "print('')\n",
    "print('##############################')\n",
    "print('')\n",
    "print(df['out_token'].info())\n",
    "print('')\n",
    "print(df.head(10))"
   ]
  },
  {
   "cell_type": "code",
   "execution_count": 17,
   "id": "43e97e26",
   "metadata": {},
   "outputs": [
    {
     "name": "stdout",
     "output_type": "stream",
     "text": [
      "\n",
      "Engineered Features:\n",
      "           latency  tim_in_sec  price_change_pct  position_change  pl_pattern  \\\n",
      "0                1           1               NaN              NaN         NaN   \n",
      "1  0 days 00:06:30         390      1.897641e+09     12566.109686  -40.272531   \n",
      "2  0 days 00:04:54         294      2.573837e-02      1434.904652  -76.868550   \n",
      "3  0 days 00:00:17          17      0.000000e+00        -0.885741 -192.369375   \n",
      "4  0 days 00:00:12          12     -9.999999e+01        -0.999999  362.084064   \n",
      "\n",
      "   consecutive_losses  consecutive_wins  \n",
      "0                 NaN               NaN  \n",
      "1                 NaN               NaN  \n",
      "2                 2.0               0.0  \n",
      "3                 3.0               0.0  \n",
      "4                 2.0               1.0  \n"
     ]
    }
   ],
   "source": [
    "# Implied price per unit of output token\n",
    "df['price_out'] = np.where(df['amount_out'] > 0, df['volume_usd'] / df['amount_out'], np.nan)\n",
    "\n",
    "# Price change percentage\n",
    "df['price_change_pct'] = df['price_out'].pct_change() * 100\n",
    "\n",
    "# Position size change (proxy for leverage)\n",
    "df['position_change'] = df['amount_in'].pct_change()\n",
    "\n",
    "# Profit/Loss pattern (simplified as volume change)\n",
    "##### explain this for better understanding\n",
    "df['pl_pattern'] = df['volume_usd'].diff()\n",
    "df['consecutive_losses'] = (df['pl_pattern'] < 0).rolling(window=3).sum()\n",
    "df['consecutive_wins'] = (df['pl_pattern'] > 0).rolling(window=3).sum()\n",
    "\n",
    "# Display engineered features\n",
    "print(\"\\nEngineered Features:\")\n",
    "print(df[['latency', 'tim_in_sec', 'price_change_pct', 'position_change', 'pl_pattern', 'consecutive_losses', 'consecutive_wins']].head())"
   ]
  },
  {
   "cell_type": "code",
   "execution_count": 18,
   "id": "ecab8cda",
   "metadata": {},
   "outputs": [
    {
     "name": "stdout",
     "output_type": "stream",
     "text": [
      "DfMxre4cKmvogbLrPigxmibVTTQDuzjdXojWzjCXXhzj"
     ]
    }
   ],
   "source": [
    "wall = df['wallet'].unique()\n",
    "for i in wall:\n",
    "    print(i, end=\"\")"
   ]
  },
  {
   "cell_type": "code",
   "execution_count": 19,
   "id": "7f786391",
   "metadata": {},
   "outputs": [
    {
     "name": "stdout",
     "output_type": "stream",
     "text": [
      "<class 'pandas.core.frame.DataFrame'>\n",
      "RangeIndex: 521 entries, 0 to 520\n",
      "Data columns (total 19 columns):\n",
      " #   Column              Non-Null Count  Dtype         \n",
      "---  ------              --------------  -----         \n",
      " 0   amount_in           521 non-null    float64       \n",
      " 1   amount_out          521 non-null    float64       \n",
      " 2   in_token            521 non-null    object        \n",
      " 3   out_token           521 non-null    object        \n",
      " 4   platform            521 non-null    object        \n",
      " 5   timestamp           521 non-null    datetime64[ns]\n",
      " 6   tx_hash             521 non-null    object        \n",
      " 7   volume_usd          521 non-null    float64       \n",
      " 8   wallet              521 non-null    object        \n",
      " 9   new_timestamp       521 non-null    datetime64[ns]\n",
      " 10  latency             521 non-null    object        \n",
      " 11  tim_in_sec          521 non-null    int32         \n",
      " 12  platform_encoded    521 non-null    int32         \n",
      " 13  price_out           521 non-null    float64       \n",
      " 14  price_change_pct    520 non-null    float64       \n",
      " 15  position_change     520 non-null    float64       \n",
      " 16  pl_pattern          520 non-null    float64       \n",
      " 17  consecutive_losses  519 non-null    float64       \n",
      " 18  consecutive_wins    519 non-null    float64       \n",
      "dtypes: datetime64[ns](2), float64(9), int32(2), object(6)\n",
      "memory usage: 73.4+ KB\n",
      "None\n"
     ]
    }
   ],
   "source": [
    "print(df.info())"
   ]
  },
  {
   "cell_type": "code",
   "execution_count": 20,
   "id": "da477685",
   "metadata": {},
   "outputs": [],
   "source": [
    "# use AI to check for for offset and rep with box plot"
   ]
  },
  {
   "cell_type": "code",
   "execution_count": 21,
   "id": "454ce376",
   "metadata": {},
   "outputs": [
    {
     "name": "stdout",
     "output_type": "stream",
     "text": [
      "\n",
      "Additional Features:\n",
      "             timestamp  trade_freq  volume_spike\n",
      "0  2025-07-03 06:19:27          11         False\n",
      "1  2025-07-03 06:25:57          11         False\n",
      "2  2025-07-03 06:30:51          11         False\n",
      "3  2025-07-03 06:31:08          11         False\n",
      "4  2025-07-03 06:31:20          11          True\n",
      "5  2025-07-03 06:31:52          11         False\n",
      "6  2025-07-03 06:32:10          11         False\n",
      "7  2025-07-03 06:32:21          11         False\n",
      "8  2025-07-03 06:32:40          11         False\n",
      "9  2025-07-03 06:39:22          11          True\n",
      "10 2025-07-03 06:56:37          11          True\n",
      "11 2025-07-03 14:48:07           2          True\n",
      "12 2025-07-03 14:48:32           2          True\n",
      "13 2025-07-03 15:28:44          11          True\n",
      "14 2025-07-03 15:29:06          11         False\n",
      "15 2025-07-03 15:29:33          11         False\n",
      "16 2025-07-03 15:34:34          11          True\n",
      "17 2025-07-03 15:34:42          11          True\n",
      "18 2025-07-03 15:38:15          11         False\n",
      "19 2025-07-03 15:45:09          11          True\n"
     ]
    }
   ],
   "source": [
    "# Trade frequency per hour\n",
    "df['hour'] = df['timestamp'].dt.floor('H')\n",
    "trade_freq = df['hour'].value_counts().rename('trade_freq')\n",
    "\n",
    "# Merge frequency back\n",
    "df = df.merge(trade_freq, on='hour', how='left')\n",
    "\n",
    "# Volume spike\n",
    "mean_volume = df['volume_usd'].mean()\n",
    "df['volume_spike'] = df['volume_usd'] > mean_volume * 1.2\n",
    "\n",
    "print(\"\\nAdditional Features:\")\n",
    "print(df[['timestamp', 'trade_freq', 'volume_spike']].head(20))"
   ]
  },
  {
   "cell_type": "code",
   "execution_count": 22,
   "id": "56eacb71",
   "metadata": {},
   "outputs": [
    {
     "name": "stdout",
     "output_type": "stream",
     "text": [
      "              timestamp  time_diff    price_in   price_out           pnl\n",
      "0   2025-07-03 06:19:27        NaN  155.290000    0.000008           NaN\n",
      "1   2025-07-03 06:25:57   6.500000    0.010927  155.410000 -1.091860e-02\n",
      "2   2025-07-03 06:30:51   4.900000    0.000006  155.450000  1.554100e+02\n",
      "3   2025-07-03 06:31:08   0.283333    0.000008  155.450000  1.554500e+02\n",
      "4   2025-07-03 06:31:20   0.200000  155.450000    0.000009  1.086633e-08\n",
      "..                  ...        ...         ...         ...           ...\n",
      "516 2025-07-05 00:00:58   7.900000  147.810000    0.000021 -3.999997e-02\n",
      "517 2025-07-05 00:13:25  12.450000    0.000031  147.850000 -9.668892e-06\n",
      "518 2025-07-05 00:34:00  20.583333    0.000034  148.420000  1.478500e+02\n",
      "519 2025-07-05 00:46:53  12.883333  220.403700  148.420000 -7.198370e+01\n",
      "520 2025-07-05 00:47:25   0.533333  148.420000  427.066656 -1.055807e-08\n",
      "\n",
      "[521 rows x 5 columns]\n"
     ]
    }
   ],
   "source": [
    "# Convert timestamps\n",
    "df['timesamp'] = pd.to_datetime(df['timestamp'])\n",
    "df = df.sort_values('timesamp')\n",
    "\n",
    "# Time difference\n",
    "df['time_diff'] = df['timesamp'].diff().dt.total_seconds() / 60  # In minutes\n",
    "\n",
    "\n",
    "\n",
    "# Price per unit (approximate)\n",
    "df['price_in'] = df['volume_usd'] / df['amount_in']\n",
    "df['price_out'] = df['volume_usd'] / df['amount_out'].replace(\"$25.8m\", 25800000)  # Handle outlier\n",
    "\n",
    "# Profit/loss (simplified)\n",
    "df['pnl'] = df['price_out'].shift(1) - df['price_in']  # Compare consecutive trades\n",
    "\n",
    "print(df[['timestamp', 'time_diff', 'price_in', 'price_out', 'pnl']])\n",
    "\n"
   ]
  },
  {
   "cell_type": "code",
   "execution_count": 23,
   "id": "766af76b",
   "metadata": {},
   "outputs": [
    {
     "data": {
      "text/html": [
       "<div>\n",
       "<style scoped>\n",
       "    .dataframe tbody tr th:only-of-type {\n",
       "        vertical-align: middle;\n",
       "    }\n",
       "\n",
       "    .dataframe tbody tr th {\n",
       "        vertical-align: top;\n",
       "    }\n",
       "\n",
       "    .dataframe thead th {\n",
       "        text-align: right;\n",
       "    }\n",
       "</style>\n",
       "<table border=\"1\" class=\"dataframe\">\n",
       "  <thead>\n",
       "    <tr style=\"text-align: right;\">\n",
       "      <th></th>\n",
       "      <th>amount_in</th>\n",
       "      <th>amount_out</th>\n",
       "      <th>in_token</th>\n",
       "      <th>out_token</th>\n",
       "      <th>platform</th>\n",
       "      <th>timestamp</th>\n",
       "      <th>tx_hash</th>\n",
       "      <th>volume_usd</th>\n",
       "      <th>wallet</th>\n",
       "      <th>new_timestamp</th>\n",
       "      <th>...</th>\n",
       "      <th>pl_pattern</th>\n",
       "      <th>consecutive_losses</th>\n",
       "      <th>consecutive_wins</th>\n",
       "      <th>hour</th>\n",
       "      <th>trade_freq</th>\n",
       "      <th>volume_spike</th>\n",
       "      <th>timesamp</th>\n",
       "      <th>time_diff</th>\n",
       "      <th>price_in</th>\n",
       "      <th>pnl</th>\n",
       "    </tr>\n",
       "  </thead>\n",
       "  <tbody>\n",
       "    <tr>\n",
       "      <th>0</th>\n",
       "      <td>2.240868e+00</td>\n",
       "      <td>4.249080e+07</td>\n",
       "      <td>WSOL</td>\n",
       "      <td>$25.8m</td>\n",
       "      <td>pumpdotfun</td>\n",
       "      <td>2025-07-03 06:19:27</td>\n",
       "      <td>38QSi6fxtJsWUyZudkEq1UNFRXrpvuxeFXgypXsUisDcei...</td>\n",
       "      <td>347.984331</td>\n",
       "      <td>DfMxre4cKmvogbLrPigxmibVTTQDuzjdXojWzjCXXhzj</td>\n",
       "      <td>2025-07-03 06:19:27</td>\n",
       "      <td>...</td>\n",
       "      <td>NaN</td>\n",
       "      <td>NaN</td>\n",
       "      <td>NaN</td>\n",
       "      <td>2025-07-03 06:00:00</td>\n",
       "      <td>11</td>\n",
       "      <td>False</td>\n",
       "      <td>2025-07-03 06:19:27</td>\n",
       "      <td>NaN</td>\n",
       "      <td>155.290000</td>\n",
       "      <td>NaN</td>\n",
       "    </tr>\n",
       "    <tr>\n",
       "      <th>1</th>\n",
       "      <td>2.816123e+04</td>\n",
       "      <td>1.980000e+00</td>\n",
       "      <td>BTC</td>\n",
       "      <td>WSOL</td>\n",
       "      <td>raydium</td>\n",
       "      <td>2025-07-03 06:25:57</td>\n",
       "      <td>2M2YYdMRZdopiBjcaz3kykeAJoig6uJiXSgjcduazbnXSQ...</td>\n",
       "      <td>307.711800</td>\n",
       "      <td>DfMxre4cKmvogbLrPigxmibVTTQDuzjdXojWzjCXXhzj</td>\n",
       "      <td>2025-07-03 06:25:57</td>\n",
       "      <td>...</td>\n",
       "      <td>-40.272531</td>\n",
       "      <td>NaN</td>\n",
       "      <td>NaN</td>\n",
       "      <td>2025-07-03 06:00:00</td>\n",
       "      <td>11</td>\n",
       "      <td>False</td>\n",
       "      <td>2025-07-03 06:25:57</td>\n",
       "      <td>6.500000</td>\n",
       "      <td>0.010927</td>\n",
       "      <td>-1.091860e-02</td>\n",
       "    </tr>\n",
       "    <tr>\n",
       "      <th>2</th>\n",
       "      <td>4.043684e+07</td>\n",
       "      <td>1.485000e+00</td>\n",
       "      <td>æ£’ä¸­æŒ‡</td>\n",
       "      <td>WSOL</td>\n",
       "      <td>raydium_launchlab</td>\n",
       "      <td>2025-07-03 06:30:51</td>\n",
       "      <td>5T9gTV3Lw982t9taYxpsVhCiso7NF4fPr25ZHU5nbqYbxW...</td>\n",
       "      <td>230.843250</td>\n",
       "      <td>DfMxre4cKmvogbLrPigxmibVTTQDuzjdXojWzjCXXhzj</td>\n",
       "      <td>2025-07-03 06:30:51</td>\n",
       "      <td>...</td>\n",
       "      <td>-76.868550</td>\n",
       "      <td>2.0</td>\n",
       "      <td>0.0</td>\n",
       "      <td>2025-07-03 06:00:00</td>\n",
       "      <td>11</td>\n",
       "      <td>False</td>\n",
       "      <td>2025-07-03 06:30:51</td>\n",
       "      <td>4.900000</td>\n",
       "      <td>0.000006</td>\n",
       "      <td>1.554100e+02</td>\n",
       "    </tr>\n",
       "    <tr>\n",
       "      <th>3</th>\n",
       "      <td>4.620261e+06</td>\n",
       "      <td>2.475000e-01</td>\n",
       "      <td>æ£’ä¸­æŒ‡</td>\n",
       "      <td>WSOL</td>\n",
       "      <td>raydium_launchlab</td>\n",
       "      <td>2025-07-03 06:31:08</td>\n",
       "      <td>2FXLpLwv941PnVYwAtyXKKzhj4qZcZRwVBrEUNbWedJhd4...</td>\n",
       "      <td>38.473875</td>\n",
       "      <td>DfMxre4cKmvogbLrPigxmibVTTQDuzjdXojWzjCXXhzj</td>\n",
       "      <td>2025-07-03 06:31:08</td>\n",
       "      <td>...</td>\n",
       "      <td>-192.369375</td>\n",
       "      <td>3.0</td>\n",
       "      <td>0.0</td>\n",
       "      <td>2025-07-03 06:00:00</td>\n",
       "      <td>11</td>\n",
       "      <td>False</td>\n",
       "      <td>2025-07-03 06:31:08</td>\n",
       "      <td>0.283333</td>\n",
       "      <td>0.000008</td>\n",
       "      <td>1.554500e+02</td>\n",
       "    </tr>\n",
       "    <tr>\n",
       "      <th>4</th>\n",
       "      <td>2.576764e+00</td>\n",
       "      <td>4.505710e+07</td>\n",
       "      <td>WSOL</td>\n",
       "      <td>æ£’ä¸­æŒ‡</td>\n",
       "      <td>raydium_launchlab</td>\n",
       "      <td>2025-07-03 06:31:20</td>\n",
       "      <td>5ozr4Sv9kGFKzhTFM71rLt8VSWZBHzkN7nXssMfriM5UR8...</td>\n",
       "      <td>400.557939</td>\n",
       "      <td>DfMxre4cKmvogbLrPigxmibVTTQDuzjdXojWzjCXXhzj</td>\n",
       "      <td>2025-07-03 06:31:20</td>\n",
       "      <td>...</td>\n",
       "      <td>362.084064</td>\n",
       "      <td>2.0</td>\n",
       "      <td>1.0</td>\n",
       "      <td>2025-07-03 06:00:00</td>\n",
       "      <td>11</td>\n",
       "      <td>True</td>\n",
       "      <td>2025-07-03 06:31:20</td>\n",
       "      <td>0.200000</td>\n",
       "      <td>155.450000</td>\n",
       "      <td>1.086633e-08</td>\n",
       "    </tr>\n",
       "  </tbody>\n",
       "</table>\n",
       "<p>5 rows × 26 columns</p>\n",
       "</div>"
      ],
      "text/plain": [
       "      amount_in    amount_out   in_token  out_token           platform  \\\n",
       "0  2.240868e+00  4.249080e+07       WSOL     $25.8m         pumpdotfun   \n",
       "1  2.816123e+04  1.980000e+00        BTC       WSOL            raydium   \n",
       "2  4.043684e+07  1.485000e+00  æ£’ä¸­æŒ‡       WSOL  raydium_launchlab   \n",
       "3  4.620261e+06  2.475000e-01  æ£’ä¸­æŒ‡       WSOL  raydium_launchlab   \n",
       "4  2.576764e+00  4.505710e+07       WSOL  æ£’ä¸­æŒ‡  raydium_launchlab   \n",
       "\n",
       "            timestamp                                            tx_hash  \\\n",
       "0 2025-07-03 06:19:27  38QSi6fxtJsWUyZudkEq1UNFRXrpvuxeFXgypXsUisDcei...   \n",
       "1 2025-07-03 06:25:57  2M2YYdMRZdopiBjcaz3kykeAJoig6uJiXSgjcduazbnXSQ...   \n",
       "2 2025-07-03 06:30:51  5T9gTV3Lw982t9taYxpsVhCiso7NF4fPr25ZHU5nbqYbxW...   \n",
       "3 2025-07-03 06:31:08  2FXLpLwv941PnVYwAtyXKKzhj4qZcZRwVBrEUNbWedJhd4...   \n",
       "4 2025-07-03 06:31:20  5ozr4Sv9kGFKzhTFM71rLt8VSWZBHzkN7nXssMfriM5UR8...   \n",
       "\n",
       "   volume_usd                                        wallet  \\\n",
       "0  347.984331  DfMxre4cKmvogbLrPigxmibVTTQDuzjdXojWzjCXXhzj   \n",
       "1  307.711800  DfMxre4cKmvogbLrPigxmibVTTQDuzjdXojWzjCXXhzj   \n",
       "2  230.843250  DfMxre4cKmvogbLrPigxmibVTTQDuzjdXojWzjCXXhzj   \n",
       "3   38.473875  DfMxre4cKmvogbLrPigxmibVTTQDuzjdXojWzjCXXhzj   \n",
       "4  400.557939  DfMxre4cKmvogbLrPigxmibVTTQDuzjdXojWzjCXXhzj   \n",
       "\n",
       "        new_timestamp  ...  pl_pattern  consecutive_losses  consecutive_wins  \\\n",
       "0 2025-07-03 06:19:27  ...         NaN                 NaN               NaN   \n",
       "1 2025-07-03 06:25:57  ...  -40.272531                 NaN               NaN   \n",
       "2 2025-07-03 06:30:51  ...  -76.868550                 2.0               0.0   \n",
       "3 2025-07-03 06:31:08  ... -192.369375                 3.0               0.0   \n",
       "4 2025-07-03 06:31:20  ...  362.084064                 2.0               1.0   \n",
       "\n",
       "                 hour  trade_freq  volume_spike            timesamp  \\\n",
       "0 2025-07-03 06:00:00          11         False 2025-07-03 06:19:27   \n",
       "1 2025-07-03 06:00:00          11         False 2025-07-03 06:25:57   \n",
       "2 2025-07-03 06:00:00          11         False 2025-07-03 06:30:51   \n",
       "3 2025-07-03 06:00:00          11         False 2025-07-03 06:31:08   \n",
       "4 2025-07-03 06:00:00          11          True 2025-07-03 06:31:20   \n",
       "\n",
       "   time_diff    price_in           pnl  \n",
       "0        NaN  155.290000           NaN  \n",
       "1   6.500000    0.010927 -1.091860e-02  \n",
       "2   4.900000    0.000006  1.554100e+02  \n",
       "3   0.283333    0.000008  1.554500e+02  \n",
       "4   0.200000  155.450000  1.086633e-08  \n",
       "\n",
       "[5 rows x 26 columns]"
      ]
     },
     "execution_count": 23,
     "metadata": {},
     "output_type": "execute_result"
    }
   ],
   "source": [
    "df.head()"
   ]
  },
  {
   "cell_type": "code",
   "execution_count": 24,
   "id": "ed942012",
   "metadata": {},
   "outputs": [
    {
     "name": "stdout",
     "output_type": "stream",
     "text": [
      "<class 'pandas.core.frame.DataFrame'>\n",
      "RangeIndex: 521 entries, 0 to 520\n",
      "Data columns (total 26 columns):\n",
      " #   Column              Non-Null Count  Dtype         \n",
      "---  ------              --------------  -----         \n",
      " 0   amount_in           521 non-null    float64       \n",
      " 1   amount_out          521 non-null    float64       \n",
      " 2   in_token            521 non-null    object        \n",
      " 3   out_token           521 non-null    object        \n",
      " 4   platform            521 non-null    object        \n",
      " 5   timestamp           521 non-null    datetime64[ns]\n",
      " 6   tx_hash             521 non-null    object        \n",
      " 7   volume_usd          521 non-null    float64       \n",
      " 8   wallet              521 non-null    object        \n",
      " 9   new_timestamp       521 non-null    datetime64[ns]\n",
      " 10  latency             521 non-null    object        \n",
      " 11  tim_in_sec          521 non-null    int32         \n",
      " 12  platform_encoded    521 non-null    int32         \n",
      " 13  price_out           521 non-null    float64       \n",
      " 14  price_change_pct    520 non-null    float64       \n",
      " 15  position_change     520 non-null    float64       \n",
      " 16  pl_pattern          520 non-null    float64       \n",
      " 17  consecutive_losses  519 non-null    float64       \n",
      " 18  consecutive_wins    519 non-null    float64       \n",
      " 19  hour                521 non-null    datetime64[ns]\n",
      " 20  trade_freq          521 non-null    int64         \n",
      " 21  volume_spike        521 non-null    bool          \n",
      " 22  timesamp            521 non-null    datetime64[ns]\n",
      " 23  time_diff           520 non-null    float64       \n",
      " 24  price_in            521 non-null    float64       \n",
      " 25  pnl                 520 non-null    float64       \n",
      "dtypes: bool(1), datetime64[ns](4), float64(12), int32(2), int64(1), object(6)\n",
      "memory usage: 98.3+ KB\n"
     ]
    }
   ],
   "source": [
    "df.info()"
   ]
  },
  {
   "cell_type": "code",
   "execution_count": 25,
   "id": "c150e67e",
   "metadata": {},
   "outputs": [],
   "source": [
    "df.to_csv('C:/Users/Jeremy S Obozuwa/Documents/new_det.csv', index=False)"
   ]
  },
  {
   "cell_type": "code",
   "execution_count": 26,
   "id": "78bf14b5",
   "metadata": {},
   "outputs": [
    {
     "name": "stdout",
     "output_type": "stream",
     "text": [
      "\n",
      "Emotion Detection Results:\n",
      "              timestamp  emotion  \\\n",
      "516 2025-07-05 00:00:58  neutral   \n",
      "517 2025-07-05 00:13:25     fomo   \n",
      "518 2025-07-05 00:34:00    greed   \n",
      "519 2025-07-05 00:46:53  neutral   \n",
      "520 2025-07-05 00:47:25     fomo   \n",
      "\n",
      "                                       trigger_details  \n",
      "516                                               None  \n",
      "517  Price spike: 696051154.77%, latency: 0 days 00...  \n",
      "518                 After win: 29.31, pos change: 3.58  \n",
      "519                                               None  \n",
      "520     Price spike: 187.74%, latency: 0 days 00:00:32  \n"
     ]
    }
   ],
   "source": [
    "#### ASSIGN A DEF TO BLOCK CODE AS A FUNCTION\n",
    "\n",
    "# Initialize emotion columns\n",
    "df['emotion'] = 'neutral'  #importance of neutral\n",
    "df['trigger_details'] = None\n",
    "\n",
    "# Apply rules\n",
    "for i in range(1, len(df)):\n",
    "    prev_row = df.iloc[i-1]\n",
    "    curr_row = df.iloc[i]\n",
    "    \n",
    "    # FOMO: Price spike >20% within 30min\n",
    "    if (curr_row['price_change_pct'] > 20 and curr_row['latency'] < timedelta(minutes=30) and curr_row['pl_pattern'] > 0):\n",
    "        df.loc[i, 'emotion'] = 'fomo'\n",
    "        df.loc[i, 'trigger_details'] = f\"Price spike: {curr_row['price_change_pct']:.2f}%, latency: {curr_row['latency']}\"\n",
    "    \n",
    "    # Revenge: Trade within 2min after loss\n",
    "    elif (curr_row['latency'] < timedelta(minutes=2) and prev_row['pl_pattern'] < 0):\n",
    "        df.loc[i, 'emotion'] = 'revenge'\n",
    "        df.loc[i, 'trigger_details'] = f\"After loss: {prev_row['pl_pattern']:.2f}, latency: {curr_row['latency']}\"\n",
    "    \n",
    "    # Greed: Position increase >50% after win\n",
    "    elif (curr_row['position_change'] > 0.5 and prev_row['pl_pattern'] > 0):\n",
    "        df.loc[i, 'emotion'] = 'greed'\n",
    "        df.loc[i, 'trigger_details'] = f\"After win: {prev_row['pl_pattern']:.2f}, pos change: {curr_row['position_change']:.2f}\"\n",
    "    \n",
    "    # Fear: Early close with small profit\n",
    "    elif (curr_row['latency'] < timedelta(minutes=1) and curr_row['pl_pattern'] > 0 and abs(curr_row['pl_pattern']) < 10):\n",
    "        df.loc[i, 'emotion'] = 'fear'\n",
    "        df.loc[i, 'trigger_details'] = f\"Early close: {curr_row['pl_pattern']:.2f}, latency: {curr_row['latency']}\"\n",
    "\n",
    "print(\"\\nEmotion Detection Results:\")\n",
    "print(df[['timestamp', 'emotion', 'trigger_details']].tail())"
   ]
  },
  {
   "cell_type": "code",
   "execution_count": 27,
   "id": "03c032be",
   "metadata": {},
   "outputs": [],
   "source": [
    "df.to_csv('C:/Users/Jeremy S Obozuwa/Documents/new_det_result.csv', index=False)"
   ]
  },
  {
   "cell_type": "code",
   "execution_count": 28,
   "id": "8e1753ec",
   "metadata": {},
   "outputs": [
    {
     "name": "stdout",
     "output_type": "stream",
     "text": [
      "\n",
      "Output per Trade:\n",
      "{'timestamp': Timestamp('2025-07-03 06:19:27'), 'amount_in': 2.240867611, 'amount_out': 42490798.02, 'in_token': 'WSOL', 'out_token': '$25.8m', 'volume_usd': 347.9843313, 'emotion': 'neutral', 'trigger_details': None}\n",
      "{'timestamp': Timestamp('2025-07-03 06:25:57'), 'amount_in': 28161.22906, 'amount_out': 1.98, 'in_token': 'BTC', 'out_token': 'WSOL', 'volume_usd': 307.7118, 'emotion': 'neutral', 'trigger_details': None}\n",
      "{'timestamp': Timestamp('2025-07-03 06:30:51'), 'amount_in': 40436839.82, 'amount_out': 1.485, 'in_token': 'æ£’ä¸\\xadæŒ‡', 'out_token': 'WSOL', 'volume_usd': 230.84325, 'emotion': 'neutral', 'trigger_details': None}\n",
      "{'timestamp': Timestamp('2025-07-03 06:31:08'), 'amount_in': 4620260.825, 'amount_out': 0.2475, 'in_token': 'æ£’ä¸\\xadæŒ‡', 'out_token': 'WSOL', 'volume_usd': 38.473875, 'emotion': 'revenge', 'trigger_details': 'After loss: -76.87, latency: 0 days 00:00:17'}\n",
      "{'timestamp': Timestamp('2025-07-03 06:31:20'), 'amount_in': 2.57676384, 'amount_out': 45057100.64, 'in_token': 'WSOL', 'out_token': 'æ£’ä¸\\xadæŒ‡', 'volume_usd': 400.5579389, 'emotion': 'revenge', 'trigger_details': 'After loss: -192.37, latency: 0 days 00:00:12'}\n"
     ]
    }
   ],
   "source": [
    "output = df[['timestamp', 'amount_in', 'amount_out', 'in_token', 'out_token', 'volume_usd', 'emotion', 'trigger_details']].to_dict(orient='records')\n",
    "print(\"\\nOutput per Trade:\")\n",
    "for trade in output[:5]:\n",
    "    print(trade)"
   ]
  },
  {
   "cell_type": "code",
   "execution_count": 29,
   "id": "da9358b5",
   "metadata": {},
   "outputs": [],
   "source": [
    "# Prepare data for ML training\n",
    "ml_df = df[['wallet', 'time_diff', 'price_change_pct', 'position_change','consecutive_losses', 'consecutive_wins','volume_spike', 'emotion']]\n",
    "\n",
    "# print(ml_df)\n",
    "\n",
    "# Encode emotion as target\n",
    "ml_df = ml_df.dropna()\n",
    "ml_df = ml_df[ml_df['emotion'] != 'neutral']  # Focus on detected emotions\n",
    "X = ml_df[['time_diff', 'price_change_pct', 'position_change', 'consecutive_losses', 'consecutive_wins', 'volume_spike']]\n",
    "y = ml_df['emotion']\n",
    "\n",
    "# Label encoding for emotions\n",
    "emotion_map = {'fomo': 0, 'revenge': 1, 'greed': 2, 'fear': 3}\n",
    "y = y.map(emotion_map)\n"
   ]
  },
  {
   "cell_type": "code",
   "execution_count": 30,
   "id": "40a9b89a",
   "metadata": {},
   "outputs": [],
   "source": [
    "import pandas as pd\n",
    "import numpy as np\n",
    "from datetime import timedelta\n",
    "import json\n",
    "from sklearn.model_selection import train_test_split\n",
    "from sklearn.ensemble import RandomForestClassifier\n",
    "from sklearn.metrics import accuracy_score"
   ]
  },
  {
   "cell_type": "code",
   "execution_count": null,
   "metadata": {},
   "outputs": [
    {
     "name": "stdout",
     "output_type": "stream",
     "text": [
      "ML Model Accuracy: 0.87\n",
      "\n",
      "Classification Report:\n",
      "              precision    recall  f1-score   support\n",
      "\n",
      "        fomo       0.67      0.50      0.57         4\n",
      "     revenge       0.94      0.92      0.93        36\n",
      "       greed       0.78      0.90      0.84        20\n",
      "        fear       1.00      0.67      0.80         3\n",
      "\n",
      "    accuracy                           0.87        63\n",
      "   macro avg       0.85      0.75      0.78        63\n",
      "weighted avg       0.88      0.87      0.87        63\n",
      "\n"
     ]
    },
    {
     "data": {
      "image/png": "[encoded data removed]",
      "text/plain": [
       "<Figure size 600x400 with 2 Axes>"
      ]
     },
     "metadata": {},
     "output_type": "display_data"
    }
   ],
   "source": [
    "from sklearn.metrics import classification_report, confusion_matrix\n",
    "import seaborn as sns\n",
    "\n",
    "# Train ML model\n",
    "\n",
    "if len(X) < 2 or len(y) < 2:\n",
    "    print(\"Insufficient data for ML training\")\n",
    "else:\n",
    "    X_train, X_test, y_train, y_test = train_test_split(X, y, test_size=0.2, random_state=42)\n",
    "    model = RandomForestClassifier(n_estimators=100, random_state=42)\n",
    "    model.fit(X_train, y_train)\n",
    "\n",
    "    # Save model for deployment\n",
    "    import joblib\n",
    "    joblib.dump(model, 'emotion_predictor.pkl')\n",
    "    joblib.dump(le, 'label_encoder.pkl')\n",
    "\n",
    "    y_pred = model.predict(X_test)\n",
    "    accuracy = accuracy_score(y_test, y_pred)\n",
    "    print(f\"ML Model Accuracy: {accuracy:.2f}\")\n",
    "\n",
    "    # Classification report\n",
    "    import matplotlib.pyplot as plt\n",
    "\n",
    "    print(\"\\nClassification Report:\")\n",
    "    print(classification_report(y_test, y_pred, target_names=['fomo', 'revenge', 'greed', 'fear']))\n",
    "\n",
    "    # Confusion matrix heatmap\n",
    "    cm = confusion_matrix(y_test, y_pred)\n",
    "    plt.figure(figsize=(6, 4))\n",
    "    sns.heatmap(cm, annot=True, fmt='d', cmap='Blues', xticklabels=['fomo', 'revenge', 'greed', 'fear'], yticklabels=['fomo', 'revenge', 'greed', 'fear'])\n",
    "    plt.xlabel('Predicted')\n",
    "    plt.ylabel('Actual')\n",
    "    plt.title('Emotion Classification Confusion Matrix')\n",
    "    plt.show()"
   ]
  },
  {
   "cell_type": "code",
   "execution_count": 32,
   "id": "453e1c96",
   "metadata": {},
   "outputs": [
    {
     "name": "stdout",
     "output_type": "stream",
     "text": [
      "where 'fomo': 0, 'revenge': 1, 'greed': 2, and 'fear': 3.\n",
      "Hence:\n",
      "ML Model Accuracy: 0.87\n"
     ]
    },
    {
     "data": {
      "image/png": "[encoded data removed]",
      "text/plain": [
       "<Figure size 1000x500 with 1 Axes>"
      ]
     },
     "metadata": {},
     "output_type": "display_data"
    }
   ],
   "source": [
    "print (\"where 'fomo': 0, 'revenge': 1, 'greed': 2, and 'fear': 3.\\nHence:\")\n",
    "print(f\"ML Model Accuracy: {accuracy:.2f}\")\n",
    "\n",
    "# Plot comparison between test and predicted values\n",
    "def plot_predictions(y_test, y_pred, title):\n",
    "    plt.figure(figsize=(10, 5))\n",
    "    plt.plot(y_test[:50].values, color='red', label='Y test values')\n",
    "    plt.plot(y_pred[:50], color='blue', label='Y predicted values')\n",
    "    plt.title(title)\n",
    "    plt.xlabel('Index')\n",
    "    plt.ylabel('Values')\n",
    "    plt.legend()\n",
    "    plt.show()\n",
    "\n",
    "plot_predictions(y_test, y_pred, 'INextAI Emotion Predictions line')"
   ]
  },
  {
   "cell_type": "code",
   "execution_count": null,
   "id": "d28f7852",
   "metadata": {},
   "outputs": [],
   "source": [
    "# Predict next emotion\n",
    "def predict_next_emotion(df, model, le):\n",
    "    if len(df) < 4:\n",
    "        return \"neutral\", \"Not enough trades for prediction\"\n",
    "    last3 = df.iloc[-3:].copy()\n",
    "    features = {\n",
    "        'time_diff': last3['time_diff'].mean(),\n",
    "        'price_change_pct': last3['price_change_pct'].mean(),\n",
    "        'position_change': last3['position_change'].mean(),\n",
    "        'consecutive_wins': last3['consecutive_wins'].iloc[-1],\n",
    "        'consecutive_losses': last3['consecutive_losses'].iloc[-1],\n",
    "        'win_streak': last3['win_streak'].iloc[-1],\n",
    "        'loss_streak': last3['loss_streak'].iloc[-1]\n",
    "    }\n",
    "    X_pred = pd.DataFrame([features])\n",
    "    pred_encoded = model.predict(X_pred)[0]\n",
    "    emotion = le.inverse_transform([pred_encoded])[0]\n",
    "    return emotion, \"Prediction based on last 3 trades\"\n",
    "\n",
    "# Test prediction\n",
    "if len(X) > 0:\n",
    "    emotion, details = predict_next_emotion(df, model, le)\n",
    "    # logger.info\n",
    "    print(f\"Predicted Next Emotion: {emotion}, Details: {details}\")"
   ]
  },
  {
   "cell_type": "markdown",
   "id": "94bf5495",
   "metadata": {},
   "source": [
    "STOP HERE..........\n",
    "\n",
    "STOP HERE..............\n",
    "\n",
    "\n",
    "BRLOW ARE COUPLE OF ROUGH WORK AND TRIALS......\n",
    "\n",
    "..............................................................................................................................\n"
   ]
  },
  {
   "cell_type": "code",
   "execution_count": null,
   "id": "0fbd4090",
   "metadata": {},
   "outputs": [],
   "source": [
    "# AI Copilot advice\n",
    "def get_copilot_advice(wallet_df):\n",
    "    recent_trades = wallet_df.tail(4).to_dict(orient='records')\n",
    "    prompt = f\"\"\"\n",
    "    User with wallet {wallet_df['wallet'].iloc[0]} has traded {len(recent_trades)} times in 30 minutes. \n",
    "    Most recent trade showed {wallet_df['emotion'].iloc[-1]} during a price change of {wallet_df['price_change_pct'].iloc[-1]:.2f}%. \n",
    "    Give emotional feedback and suggest action.\n",
    "    Trade History: {json.dumps(recent_trades, default=str)}\n",
    "    \"\"\"\n",
    "    try:\n",
    "        response = client.chat.completions.create(\n",
    "            model=\"gpt-4\",\n",
    "            messages=[{\"role\": \"user\", \"content\": prompt}],\n",
    "            timeout=30\n",
    "        )\n",
    "        advice = response.choices[0].message.content\n",
    "        return json.loads(advice) if advice.startswith('{') else {\"copilot_advice\": advice, \"recommendation\": \"none\"}\n",
    "    except Exception as e:\n",
    "        print(f\"Error getting copilot advice: {e}\")\n",
    "        return {\"copilot_advice\": \"Unable to provide advice due to an error.\", \"recommendation\": \"none\"}\n"
   ]
  },
  {
   "cell_type": "code",
   "execution_count": null,
   "id": "5a872d88",
   "metadata": {},
   "outputs": [],
   "source": [
    "file_path_single = \"trading_data_single.csv\" # refer to user dataset/ dataframe\n",
    "print(\"Testing single user dataset\")\n",
    "df_single = load_and_preprocess_data(file_path_single) # converting to readable data set and what have you\n",
    "features_dict_single = engineer_features(df_single)    # Feature enginerring aspect where X_label are selected and sorted\n",
    "for wallet, wallet_df in features_dict_single.items():\n",
    "    wallet_df = predict_next_emotion(wallet_df)\n",
    "    features_dict_single[wallet] = wallet_df\n",
    "    output_file = f\"trades_{wallet}_single.json\"\n",
    "    wallet_df.to_json(output_file, orient='records')\n",
    "    print(f\"Saved single user data for {wallet} to {output_file}\")\n",
    "    advice = get_copilot_advice(wallet_df)\n",
    "    print(f\"Copilot Advice for {wallet}: {json.dumps(advice)}\")\n"
   ]
  },
  {
   "cell_type": "markdown",
   "id": "cdeb48e7",
   "metadata": {},
   "source": [
    "further analysis\n"
   ]
  },
  {
   "cell_type": "markdown",
   "id": "b19d85a0",
   "metadata": {},
   "source": [
    "machine learning section \n",
    "\n",
    "here we go hehehe\n"
   ]
  },
  {
   "cell_type": "code",
   "execution_count": null,
   "id": "5647811b",
   "metadata": {},
   "outputs": [],
   "source": [
    "import pandas as pd\n",
    "import numpy as np\n",
    "from datetime import timedelta\n",
    "import json\n",
    "from sklearn.model_selection import train_test_split\n",
    "from sklearn.ensemble import RandomForestClassifier\n",
    "from sklearn.metrics import accuracy_score\n",
    "import logging\n",
    "from openai import OpenAI "
   ]
  },
  {
   "cell_type": "code",
   "execution_count": null,
   "id": "d33ee5b3",
   "metadata": {},
   "outputs": [],
   "source": [
    "# Set up logging\n",
    "logging.basicConfig(level=logging.INFO, format='%(asctime)s - %(levelname)s - %(message)s')\n",
    "logger = logging.getLogger(__name__)\n",
    "\n",
    "\n",
    "\n",
    "\n",
    "# Update the main execution block\n",
    "if __name__ == \"__main__\":\n",
    "    # Test single user\n",
    "    file_path_single = \"trading_data_single.csv\"\n",
    "    logger.info(\"Testing single user dataset\")\n",
    "    df_single = load_and_preprocess_data(file_path_single)\n",
    "    features_dict_single = engineer_features(df_single)\n",
    "    for wallet, wallet_df in features_dict_single.items():\n",
    "        wallet_df = detect_emotions(wallet_df)\n",
    "        features_dict_single[wallet] = wallet_df\n",
    "        output_file = f\"trades_{wallet}_single.json\"\n",
    "        wallet_df.to_json(output_file, orient='records')\n",
    "        logger.info(f\"Saved single user data for {wallet} to {output_file}\")\n",
    "        advice = get_copilot_advice(wallet_df)\n",
    "        logger.info(f\"Copilot Advice for {wallet}: {json.dumps(advice)}\")\n",
    "    \n",
    "    X_single, y_single = prepare_ml_data(features_dict_single)\n",
    "    if X_single is not None and not X_single.empty:\n",
    "        model = train_ml_model(X_single, y_single)\n",
    "    else:\n",
    "        logger.warning(\"Insufficient data for ML training with single user\")\n",
    "\n",
    "    # Test multiple users\n",
    "    file_path_multi = \"trading_data_multi.csv\"\n",
    "    logger.info(\"Testing multiple user dataset\")\n",
    "    df_multi = load_and_preprocess_data(file_path_multi)\n",
    "    features_dict_multi = engineer_features(df_multi)\n",
    "    for wallet, wallet_df in features_dict_multi.items():\n",
    "        wallet_df = detect_emotions(wallet_df)\n",
    "        features_dict_multi[wallet] = wallet_df\n",
    "        output_file = f\"trades_{wallet}_multi.json\"\n",
    "        wallet_df.to_json(output_file, orient='records')\n",
    "        logger.info(f\"Saved multi-user data for {wallet} to {output_file}\")\n",
    "        advice = get_copilot_advice(wallet_df)\n",
    "        logger.info(f\"Copilot Advice for {wallet}: {json.dumps(advice)}\")\n",
    "    \n",
    "    X_multi, y_multi = prepare_ml_data(features_dict_multi)\n",
    "    if X_multi is not None and not X_multi.empty:\n",
    "        model = train_ml_model(X_multi, y_multi)\n",
    "    else:\n",
    "        logger.warning(\"Insufficient data for ML training with multiple users\")"
   ]
  },
  {
   "cell_type": "code",
   "execution_count": null,
   "id": "75826da9",
   "metadata": {},
   "outputs": [],
   "source": [
    "timestamps = [\n",
    "    \"2025-07-03 06:19:27.000 UTC\",\n",
    "    \"2025-07-03 06:25:57.000 UTC\",\n",
    "    \"2025-07-03 06:30:51.000 UTC\",\n",
    "    \"2025-07-03 06:31:08.000 UTC\",\n",
    "    \"2025-07-03 06:31:20.000 UTC\",\n",
    "    \"2025-07-03 06:31:52.000 UTC\"\n",
    "]"
   ]
  },
  {
   "cell_type": "code",
   "execution_count": null,
   "id": "3ed18f28",
   "metadata": {},
   "outputs": [
    {
     "name": "stdout",
     "output_type": "stream",
     "text": [
      "            timestamp  wallet latency_timedelta  latency_seconds\n",
      "0 2025-07-03 06:19:27  ewewe1               NaT              NaN\n",
      "1 2025-07-03 06:25:57  erere2   0 days 00:06:30            390.0\n",
      "2 2025-07-03 06:30:51  fgfgf3   0 days 00:04:54            294.0\n",
      "3 2025-07-03 06:31:08  hghgh4   0 days 00:00:17             17.0\n",
      "4 2025-07-03 06:31:20  erere2   0 days 00:00:12             12.0\n"
     ]
    }
   ],
   "source": [
    "# Create DataFrame\n",
    "ddf = pd.DataFrame({'timestamp': timestamps})\n",
    "\n",
    "lit = ['ewewe1', 'erere2', 'fgfgf3','hghgh4','erere2','ewewe1',]\n",
    "ddf['wallet'] = pd.DataFrame(lit)\n",
    "# Convert to datetime - removing '.000 UTC' completely\n",
    "ddf['timestamp'] = pd.to_datetime(ddf['timestamp'].str.replace('\\.000 UTC', '', regex=True))\n",
    "\n",
    "# Calculate latency as timedelta\n",
    "ddf['latency_timedelta'] = ddf['timestamp'].diff()\n",
    "\n",
    "# Calculate latency in seconds\n",
    "ddf['latency_seconds'] = ddf['latency_timedelta'].dt.total_seconds()\n",
    "\n",
    "print(ddf.head())"
   ]
  },
  {
   "cell_type": "code",
   "execution_count": null,
   "id": "4c277984",
   "metadata": {},
   "outputs": [
    {
     "name": "stdout",
     "output_type": "stream",
     "text": [
      "            timestamp  wallet latency_timedelta  latency_seconds\n",
      "0 2025-07-03 06:19:27  ewewe1                 1                1\n",
      "1 2025-07-03 06:25:57  erere2   0 days 00:06:30              390\n",
      "2 2025-07-03 06:30:51  fgfgf3   0 days 00:04:54              294\n",
      "3 2025-07-03 06:31:08  hghgh4   0 days 00:00:17               17\n",
      "4 2025-07-03 06:31:20  erere2   0 days 00:00:12               12\n",
      "5 2025-07-03 06:31:52  ewewe1   0 days 00:00:32               32\n"
     ]
    }
   ],
   "source": [
    "# Calculate trades/hour per wallet\n",
    "# ddf['latency_seconds'] = ddf['latency_seconds'].fillna(0)\n",
    "ddf = ddf.replace(['NAN', 'NAT', 'INVALID'], np.nan).fillna(1)\n",
    "ddf['latency_seconds'] = ddf['latency_seconds'].round().astype(int)\n",
    "\n",
    "trades_per_wallet = ddf.groupby('wallet').size()\n",
    "time_span_per_wallet = ddf.groupby('wallet')['timestamp'].agg(['min', 'max'])\n",
    "hours_per_wallet = (time_span_per_wallet['max'] - time_span_per_wallet['min']).dt.total_seconds() / 3600\n",
    "trades_per_hour = trades_per_wallet / hours_per_wallet\n",
    "\n",
    "print(trades_per_hour)\n",
    "\n",
    "print(ddf)\n",
    "# print(trades_per_hour)"
   ]
  },
  {
   "cell_type": "code",
   "execution_count": null,
   "id": "86a54e28",
   "metadata": {},
   "outputs": [
    {
     "name": "stdout",
     "output_type": "stream",
     "text": [
      "wallet\n",
      "erere2    22.291022\n",
      "ewewe1     9.664430\n",
      "fgfgf3          inf\n",
      "hghgh4          inf\n",
      "dtype: float64\n"
     ]
    }
   ],
   "source": [
    "# Calculate trades per hour per wallet\n",
    "trades_per_wallet = ddf.groupby('wallet').size()\n",
    "time_span_per_wallet = ddf.groupby('wallet')['timestamp'].agg(['min', 'max'])\n",
    "hours_per_wallet = (time_span_per_wallet['max'] - time_span_per_wallet['min']).dt.total_seconds() / 3600\n",
    "trades_per_hour = trades_per_wallet / hours_per_wallet\n",
    "\n",
    "print(trades_per_hour)"
   ]
  },
  {
   "cell_type": "code",
   "execution_count": null,
   "metadata": {},
   "outputs": [],
   "source": []
  },
  {
   "cell_type": "code",
   "execution_count": null,
   "id": "7e1e2ad5",
   "metadata": {},
   "outputs": [
    {
     "data": {
      "text/plain": [
       "0.0"
      ]
     },
     "execution_count": 139,
     "metadata": {},
     "output_type": "execute_result"
    }
   ],
   "source": [
    "0/1"
   ]
  },
  {
   "cell_type": "code",
   "execution_count": null,
   "id": "ddc05378",
   "metadata": {},
   "outputs": [],
   "source": []
  }
 ],
 "metadata": {
  "kernelspec": {
   "display_name": "base",
   "language": "python",
   "name": "python3"
  },
  "language_info": {
   "codemirror_mode": {
    "name": "ipython",
    "version": 3
   },
   "file_extension": ".py",
   "mimetype": "text/x-python",
   "name": "python",
   "nbconvert_exporter": "python",
   "pygments_lexer": "ipython3",
   "version": "3.11.5"
  }
 },
 "nbformat": 4,
 "nbformat_minor": 5
}
